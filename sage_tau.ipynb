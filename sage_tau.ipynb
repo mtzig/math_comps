{
 "cells": [
  {
   "cell_type": "code",
   "execution_count": 1,
   "metadata": {},
   "outputs": [],
   "source": [
    "%load_ext autoreload\n",
    "%autoreload 2"
   ]
  },
  {
   "cell_type": "code",
   "execution_count": 2,
   "metadata": {},
   "outputs": [],
   "source": [
    "from tqdm import tqdm\n",
    "import pickle"
   ]
  },
  {
   "cell_type": "code",
   "execution_count": 4,
   "metadata": {},
   "outputs": [],
   "source": [
    "commutator = lambda x,y:x*y*x^-1*y^-1"
   ]
  },
  {
   "cell_type": "code",
   "execution_count": 5,
   "metadata": {},
   "outputs": [],
   "source": [
    "n = 20\n"
   ]
  },
  {
   "cell_type": "code",
   "execution_count": 6,
   "metadata": {},
   "outputs": [],
   "source": [
    "G = SymmetricGroup(n)\n",
    "A = AlternatingGroup(n)\n",
    "\n",
    "fixed_h = PermutationGroupElement([tuple([i for i in range(1, n+1)])])\n",
    "ident = G.identity()\n",
    "irr_G = G.irreducible_characters()"
   ]
  },
  {
   "cell_type": "code",
   "execution_count": 55,
   "metadata": {},
   "outputs": [],
   "source": [
    "# taus_random = []\n",
    "# for _ in range(20):\n",
    "#     tau = PermutationGroupElement(A.random_element().cycle_string())\n",
    "#     taus_random.append(tau)\n",
    "# # removes taus of same conjugacy class\n",
    "# taus = []\n",
    "# c_types = set()\n",
    "# for tau in taus_random:\n",
    "#     tau_ctype = tau.cycle_type()\n",
    "#     if tau_ctype not in c_types:\n",
    "#         c_types.add(tau_ctype)\n",
    "#         taus.append(tau)\n",
    "\n",
    "# pickle.dump(taus, open('./tau_20.sav', 'wb'))\n",
    "\n",
    "taus = pickle.load(open('./tau_20.sav', 'rb'))\n",
    "\n"
   ]
  },
  {
   "cell_type": "code",
   "execution_count": 52,
   "metadata": {},
   "outputs": [
    {
     "data": {
      "text/plain": [
       "[(1,8,11,12,17,4,14,19,18,3,16,13,20,15,5,9,6,10,7),\n",
       " (1,14,7,2,20,4,15,5,3,17,8,16,9,11,19)(6,10,18,13,12),\n",
       " (1,2,13,4,19,18,5,14,8,16,20,7,15,6)(3,9,10,11,17,12),\n",
       " (1,3,10,19,17,12,5,8,6,4)(2,9,13,18)(7,16,20,11)(14,15),\n",
       " (1,9,6,19,8,4,15,20,18,3)(2,11,10,7,5,13,16,12,14,17),\n",
       " (1,10,4,12,19,9,6,13,7,15,14,20,5)(2,8,3)(11,17)(16,18),\n",
       " (1,6,2,13,17,18,14,7,8,11,20)(3,5,15,19)(10,12),\n",
       " (1,9,8,10,5,15,14,6)(2,13,20,7,19)(3,12,18,4,17)(11,16),\n",
       " (1,15,17,13,14,5)(2,18,11,16,7,8,20,12,19,3,6)(4,9),\n",
       " (1,2,11,5,4,3,10,12,14)(6,15,20,13,19)(7,16,9)(8,17,18),\n",
       " (1,9,11,15,12,10,3)(2,17,13,6,4,7,14,16,19,8,20,18,5),\n",
       " (1,17,15,8,12,14,13,20,5,9,2,3,18,16)(4,6,7)(10,19),\n",
       " (1,3,14,8,7,2,15,13,12,6,18,4,5,19,16,9)(11,20),\n",
       " (1,12,6,19,2,4)(3,9,16,18,11,7,13,15)(5,14,20)(8,17,10),\n",
       " (1,9,20,15)(2,5,19,6,10,16)(3,7)(8,18,17,11,13,14)]"
      ]
     },
     "execution_count": 52,
     "metadata": {},
     "output_type": "execute_result"
    }
   ],
   "source": [
    "taus"
   ]
  },
  {
   "cell_type": "code",
   "execution_count": 53,
   "metadata": {},
   "outputs": [
    {
     "name": "stdout",
     "output_type": "stream",
     "text": [
      "[19, 1]\n",
      "[15, 5]\n",
      "[14, 6]\n",
      "[10, 4, 4, 2]\n",
      "[10, 10]\n",
      "[13, 3, 2, 2]\n",
      "[11, 4, 2, 1, 1, 1]\n",
      "[8, 5, 5, 2]\n",
      "[11, 6, 2, 1]\n",
      "[9, 5, 3, 3]\n",
      "[13, 7]\n",
      "[14, 3, 2, 1]\n",
      "[16, 2, 1, 1]\n",
      "[8, 6, 3, 3]\n",
      "[6, 6, 4, 2, 1, 1]\n"
     ]
    }
   ],
   "source": [
    "for tau in taus:\n",
    "    print(tau.cycle_type())"
   ]
  },
  {
   "attachments": {},
   "cell_type": "markdown",
   "metadata": {},
   "source": [
    "# random model closed form prob"
   ]
  },
  {
   "cell_type": "code",
   "execution_count": 49,
   "metadata": {},
   "outputs": [],
   "source": [
    "h = PermutationGroupElement('(1,14,7,16,3)(2,10,11)(4,19,9)(5,17)(6,15,8,12)') # NOTE this is a weird case"
   ]
  },
  {
   "cell_type": "code",
   "execution_count": 56,
   "metadata": {},
   "outputs": [
    {
     "name": "stdout",
     "output_type": "stream",
     "text": [
      "0.104691358024691\n",
      "0.0253992416536299\n",
      "0.0226755955878344\n",
      "0.00297592906347518\n",
      "0.00952492940169316\n",
      "0.00611296924655288\n",
      "0.00419665943509088\n",
      "0.00238108902938643\n",
      "0.0150644983161956\n",
      "0.00235791398991967\n",
      "0.0209317653722839\n",
      "0.0237082493912893\n",
      "0.0326733310408184\n",
      "0.00221016484130151\n",
      "0.00181532202230302\n"
     ]
    }
   ],
   "source": [
    "random_probs = []\n",
    "for tau in taus:\n",
    "    conj_tau_size = G.conjugacy_class(tau).cardinality()\n",
    "    prob = sum(chi(tau) / chi(ident) for chi in irr_G) / factorial(n) * conj_tau_size\n",
    "    print(N(prob))\n",
    "\n",
    "    random_probs.append(prob)"
   ]
  },
  {
   "attachments": {},
   "cell_type": "markdown",
   "metadata": {},
   "source": [
    "# fixed h model"
   ]
  },
  {
   "cell_type": "code",
   "execution_count": 66,
   "metadata": {},
   "outputs": [],
   "source": [
    "ctype_success = {}\n",
    "for tau in taus:\n",
    "    ctype_success[tau.cycle_type()] = 0"
   ]
  },
  {
   "cell_type": "code",
   "execution_count": 67,
   "metadata": {},
   "outputs": [
    {
     "name": "stderr",
     "output_type": "stream",
     "text": [
      "100%|██████████| 300000/300000 [40:13<00:00, 124.30it/s]\n"
     ]
    }
   ],
   "source": [
    "trials = 300000\n",
    "s = 0\n",
    "for _ in tqdm(range(trials)):\n",
    "    v = G.random_element()\n",
    "\n",
    "    com = commutator(fixed_h,v).cycle_type()\n",
    "\n",
    "\n",
    "    if com in ctype_success:\n",
    "        ctype_success[com] += 1\n",
    "\n"
   ]
  },
  {
   "cell_type": "code",
   "execution_count": 68,
   "metadata": {},
   "outputs": [
    {
     "name": "stdout",
     "output_type": "stream",
     "text": [
      "0.104693333333333\n",
      "0.0252866666666667\n",
      "0.0225066666666667\n",
      "0.00300666666666667\n",
      "0.00940333333333333\n",
      "0.00610000000000000\n",
      "0.00421000000000000\n",
      "0.00222000000000000\n",
      "0.0148800000000000\n",
      "0.00224333333333333\n",
      "0.0210600000000000\n",
      "0.0240566666666667\n",
      "0.0327733333333333\n",
      "0.00212000000000000\n",
      "0.00185666666666667\n"
     ]
    }
   ],
   "source": [
    "fixed_probs = []\n",
    "for key in ctype_success:\n",
    "    print(N(ctype_success[key]/trials))\n",
    "    fixed_probs.append(ctype_success[key]/trials)"
   ]
  },
  {
   "attachments": {},
   "cell_type": "markdown",
   "metadata": {},
   "source": [
    "# Sebastian Fixed H Closed Form"
   ]
  },
  {
   "cell_type": "code",
   "execution_count": 69,
   "metadata": {},
   "outputs": [
    {
     "name": "stdout",
     "output_type": "stream",
     "text": [
      "0.105263157894737\n",
      "0.0253984634789588\n",
      "0.0226751519321179\n",
      "0.00295945884181178\n",
      "0.00952375797577036\n",
      "0.00604664942900237\n",
      "0.00417637917637918\n",
      "0.00236866075101369\n",
      "0.0150625518272577\n",
      "0.00235594712718896\n",
      "0.0209317195164166\n",
      "0.0236928104575163\n",
      "0.0326797385620915\n",
      "0.00220840947965131\n",
      "0.00181492889826223\n"
     ]
    }
   ],
   "source": [
    "fix_closed = []\n",
    "for tau in taus:\n",
    "    conj_tau_size = G.conjugacy_class(tau).cardinality()\n",
    "\n",
    "    prob = sum(complex(abs(chi(fixed_h))^2) * conjugate(chi(tau)) / chi(ident) for chi in irr_G) / factorial(n) * conj_tau_size\n",
    "    print(N(prob))\n",
    "\n",
    "    fix_closed.append(prob)"
   ]
  },
  {
   "cell_type": "markdown",
   "metadata": {},
   "source": [
    "# all together"
   ]
  },
  {
   "cell_type": "code",
   "execution_count": 70,
   "metadata": {},
   "outputs": [
    {
     "name": "stdout",
     "output_type": "stream",
     "text": [
      "0.104691358024691 0.105263157894737 0.104693333333333\n",
      "0.0253992416536299 0.0253984634789588 0.0252866666666667\n",
      "0.0226755955878344 0.0226751519321179 0.0225066666666667\n",
      "0.00297592906347518 0.00295945884181178 0.00300666666666667\n",
      "0.00952492940169316 0.00952375797577036 0.00940333333333333\n",
      "0.00611296924655288 0.00604664942900237 0.00610000000000000\n",
      "0.00419665943509088 0.00417637917637918 0.00421000000000000\n",
      "0.00238108902938643 0.00236866075101369 0.00222000000000000\n",
      "0.0150644983161956 0.0150625518272577 0.0148800000000000\n",
      "0.00235791398991967 0.00235594712718896 0.00224333333333333\n",
      "0.0209317653722839 0.0209317195164166 0.0210600000000000\n",
      "0.0237082493912893 0.0236928104575163 0.0240566666666667\n",
      "0.0326733310408184 0.0326797385620915 0.0327733333333333\n",
      "0.00221016484130151 0.00220840947965131 0.00212000000000000\n",
      "0.00181532202230302 0.00181492889826223 0.00185666666666667\n"
     ]
    }
   ],
   "source": [
    "for u,c,f in list(zip(random_probs, fix_closed, fixed_probs)):\n",
    "    print(N(u), N(c), N(f))\n"
   ]
  }
 ],
 "metadata": {
  "kernelspec": {
   "display_name": "SageMath 9.7",
   "language": "sage",
   "name": "SageMath-9.7"
  },
  "language_info": {
   "codemirror_mode": {
    "name": "ipython",
    "version": 3
   },
   "file_extension": ".py",
   "mimetype": "text/x-python",
   "name": "python",
   "nbconvert_exporter": "python",
   "pygments_lexer": "ipython3",
   "version": "3.10.5"
  },
  "orig_nbformat": 4
 },
 "nbformat": 4,
 "nbformat_minor": 2
}
