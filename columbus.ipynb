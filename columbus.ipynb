{
 "cells": [
  {
   "cell_type": "code",
   "execution_count": 1,
   "metadata": {},
   "outputs": [],
   "source": [
    "%load_ext autoreload\n",
    "%autoreload 2\n",
    "# %cd .."
   ]
  },
  {
   "cell_type": "code",
   "execution_count": 2,
   "metadata": {},
   "outputs": [],
   "source": [
    "from sts_curves import *\n",
    "from columbus import * #STS, alg1, shortest_closed_path\n",
    "import numpy as np\n",
    "from surface_dynamics.all import *\n",
    "from tqdm import tqdm\n",
    "from multiprocessing.pool import Pool\n"
   ]
  },
  {
   "cell_type": "code",
   "execution_count": 3,
   "metadata": {},
   "outputs": [],
   "source": [
    "def mp_comp(STSs):\n",
    "    with Pool() as pool:\n",
    "        # r = pool.map(get_shortest_curve,  STSs)\n",
    "        r = list(tqdm(pool.imap(get_shortest_curve,  STSs), total=len(STSs)))\n",
    "\n",
    "    return max(r)\n"
   ]
  },
  {
   "cell_type": "code",
   "execution_count": 4,
   "metadata": {},
   "outputs": [],
   "source": [
    "def mp_reps(curves):\n",
    "    \n",
    "    with Pool() as pool:\n",
    "        # r = pool.map(get_orbit_reps,  curves)\n",
    "        r = list(tqdm(pool.imap(get_orbit_reps,  curves), total=len(curves)))\n",
    "\n",
    "    return [o for sub_rep in r for o in sub_rep]"
   ]
  },
  {
   "attachments": {},
   "cell_type": "markdown",
   "metadata": {},
   "source": [
    "# compute max systole for any n"
   ]
  },
  {
   "cell_type": "code",
   "execution_count": 7,
   "metadata": {},
   "outputs": [
    {
     "name": "stderr",
     "output_type": "stream",
     "text": [
      "100%|██████████| 4/4 [00:01<00:00,  3.08it/s]\n",
      "100%|██████████| 29/29 [00:01<00:00, 21.86it/s]\n"
     ]
    },
    {
     "data": {
      "text/plain": [
       "1.4142135623730951"
      ]
     },
     "execution_count": 7,
     "metadata": {},
     "output_type": "execute_result"
    }
   ],
   "source": [
    "n = 6 # the nuumber squares you want to look at\n",
    "stratum = [2,2] # the stratum (must only have two singularities)\n",
    "\n",
    "component = AbelianStratum(*stratum).hyperelliptic_component()\n",
    "curves = component.arithmetic_teichmueller_curves(n)\n",
    "\n",
    "max_curve = 0\n",
    "\n",
    "s_orbit_reps = mp_reps(curves)\n",
    "mp_comp(s_orbit_reps)\n",
    "\n",
    "\n"
   ]
  },
  {
   "cell_type": "code",
   "execution_count": null,
   "metadata": {},
   "outputs": [],
   "source": []
  }
 ],
 "metadata": {
  "kernelspec": {
   "display_name": "SageMath 9.8",
   "language": "sage",
   "name": "SageMath-9.8"
  },
  "language_info": {
   "codemirror_mode": {
    "name": "ipython",
    "version": 3
   },
   "file_extension": ".py",
   "mimetype": "text/x-python",
   "name": "python",
   "nbconvert_exporter": "python",
   "pygments_lexer": "ipython3",
   "version": "3.11.1"
  },
  "orig_nbformat": 4
 },
 "nbformat": 4,
 "nbformat_minor": 2
}
