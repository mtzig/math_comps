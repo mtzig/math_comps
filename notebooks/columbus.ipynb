{
 "cells": [
  {
   "cell_type": "code",
   "execution_count": 1,
   "metadata": {},
   "outputs": [
    {
     "name": "stdout",
     "output_type": "stream",
     "text": [
      "/Users/tzeng/repos/math_comps\n"
     ]
    }
   ],
   "source": [
    "%load_ext autoreload\n",
    "%autoreload 2\n",
    "%cd .."
   ]
  },
  {
   "cell_type": "code",
   "execution_count": 4,
   "metadata": {},
   "outputs": [],
   "source": [
    "from sts_curves import *\n",
    "from columbus import STS, alg1, shortest_closed_path\n",
    "import numpy as np\n",
    "from surface_dynamics.all import *\n",
    "from tqdm import tqdm"
   ]
  },
  {
   "attachments": {},
   "cell_type": "markdown",
   "metadata": {},
   "source": [
    "# compute max systole for any n"
   ]
  },
  {
   "cell_type": "code",
   "execution_count": 5,
   "metadata": {},
   "outputs": [
    {
     "name": "stderr",
     "output_type": "stream",
     "text": [
      "100%|██████████| 1/1 [00:00<00:00, 873.45it/s]\n"
     ]
    },
    {
     "data": {
      "text/plain": [
       "1.4142135623730951"
      ]
     },
     "execution_count": 5,
     "metadata": {},
     "output_type": "execute_result"
    }
   ],
   "source": [
    "n = 5\n",
    "\n",
    "component = AbelianStratum(1, 1).hyperelliptic_component()\n",
    "curves = component.arithmetic_teichmueller_curves(n)\n",
    "\n",
    "max_curve = 0\n",
    "\n",
    "for curve in tqdm(curves):\n",
    "\n",
    "    ####### Columbus Magic ##################\n",
    "    # basically to get all the representatives of orbit under S\n",
    "    _, _, s_action = curve.origami().sl2z_edges()\n",
    "\n",
    "    i, s_orbit_reps = 0, list(s_action.keys())\n",
    "    while i < len(s_orbit_reps):\n",
    "        o = s_orbit_reps[i]\n",
    "        s_o = s_action[o]\n",
    "        s_orbit_reps.remove(s_o)\n",
    "        s_o = s_action[s_o]\n",
    "        if s_o != o:\n",
    "            s_orbit_reps.remove(s_o)\n",
    "            s_o = s_action[s_o]\n",
    "            s_orbit_reps.remove(s_o)\n",
    "        i += 1\n",
    "    #######################################\n",
    "\n",
    "    for o in s_orbit_reps:\n",
    "        h = STS.get_cycle_dict(o.r().cycle_string(), n)\n",
    "        v = STS.get_cycle_dict(o.u().cycle_string(), n)\n",
    "\n",
    "        s = STS(h,v)\n",
    "\n",
    "        g = alg1(s)\n",
    "\n",
    "        sys_s = shortest_closed_path(g)\n",
    "\n",
    "        max_curve = max(max_curve, sys_s)\n",
    "\n",
    "max_curve"
   ]
  }
 ],
 "metadata": {
  "kernelspec": {
   "display_name": "SageMath 9.8",
   "language": "sage",
   "name": "SageMath-9.8"
  },
  "language_info": {
   "codemirror_mode": {
    "name": "ipython",
    "version": 3
   },
   "file_extension": ".py",
   "mimetype": "text/x-python",
   "name": "python",
   "nbconvert_exporter": "python",
   "pygments_lexer": "ipython3",
   "version": "3.11.1"
  },
  "orig_nbformat": 4
 },
 "nbformat": 4,
 "nbformat_minor": 2
}
