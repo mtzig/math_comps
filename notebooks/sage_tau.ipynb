{
 "cells": [
  {
   "cell_type": "code",
   "execution_count": 1,
   "metadata": {},
   "outputs": [
    {
     "name": "stdout",
     "output_type": "stream",
     "text": [
      "/Users/tzeng/repos/math_comps\n"
     ]
    }
   ],
   "source": [
    "%load_ext autoreload\n",
    "%autoreload 2\n",
    "%cd .."
   ]
  },
  {
   "cell_type": "code",
   "execution_count": 2,
   "metadata": {},
   "outputs": [],
   "source": [
    "import pickle"
   ]
  },
  {
   "attachments": {},
   "cell_type": "markdown",
   "metadata": {},
   "source": [
    "# The object code"
   ]
  },
  {
   "cell_type": "code",
   "execution_count": 99,
   "metadata": {},
   "outputs": [],
   "source": [
    "# Note have to directly paste into notebook\n",
    "\n",
    "class Tau:\n",
    "    \n",
    "    def __init__(self, n):\n",
    "\n",
    "\n",
    "        self.n = n\n",
    "\n",
    "        self.G = SymmetricGroup(n)\n",
    "        self.A = AlternatingGroup(n)\n",
    "\n",
    "        self.fixed_h = PermutationGroupElement([tuple([i for i in range(1, n+1)])])\n",
    "        self.ident = self.G.identity()\n",
    "        self.irr_G = self.G.irreducible_characters()\n",
    "\n",
    "\n",
    "    \n",
    "    @staticmethod\n",
    "    def commutator(x,y):\n",
    "        return x*y*x^-1*y^-1\n",
    "    \n",
    "    @staticmethod\n",
    "    def ct_to_cs(ct):\n",
    "        '''\n",
    "        converts cycle type to cycle string\n",
    "        '''\n",
    "        i = 1\n",
    "        cs = ''\n",
    "\n",
    "        for n in ct:\n",
    "            cs += '('\n",
    "            for _ in range(n):\n",
    "                cs += f'{i},'\n",
    "                i+= 1\n",
    "            \n",
    "            cs = cs[:-1] + ')'\n",
    "        \n",
    "        return cs\n",
    "\n",
    "    def compute_closed_form(self, tau, model='rand', conj_tau=True):\n",
    "        '''\n",
    "        model types: rand, fixed, fixed_conj\n",
    "        '''\n",
    "\n",
    "        conj_tau_size = self.G.conjugacy_class(tau).cardinality()\n",
    "\n",
    "        if model == 'rand':\n",
    "                prob = sum(chi(tau) / chi(self.ident) for chi in self.irr_G) / factorial(self.n)\n",
    "        elif model == 'fixed':\n",
    "            prob = sum(complex(abs(chi(self.fixed_h))^2) * conjugate(chi(tau)) / chi(self.ident) for chi in self.irr_G) / factorial(self.n)\n",
    "        else: # fixed cong\n",
    "            prob = sum(complex(abs(chi(self.fixed_h))^2) * chi(tau) / chi(self.ident) for chi in self.irr_G) / factorial(self.n)\n",
    "\n",
    "        if conj_tau:\n",
    "            return N(prob * conj_tau_size)\n",
    "        else:\n",
    "            return N(prob)\n",
    "\n",
    "\n",
    "    def compute_brute(self, model='rand'):\n",
    "        \n",
    "        ctype_success = {}\n",
    "\n",
    "        if model=='rand':\n",
    "            ctype_success = self.__brute_rand()\n",
    "        elif model == 'fixed':\n",
    "            ctype_success = self.__brute_fixed()\n",
    "        else:\n",
    "            ctype_success = self.__brute_fixed_conj()\n",
    "\n",
    "        \n",
    "  \n",
    "\n",
    "        return ctype_success\n",
    "\n",
    "    def __brute_rand(self):\n",
    "        '''\n",
    "        computes probability for random model (small n)\n",
    "        '''\n",
    "        ctype_success = {}\n",
    "\n",
    "        for h in self.G:\n",
    "            for v in self.G:\n",
    "\n",
    "                com = Tau.commutator(h,v).cycle_string()\n",
    "\n",
    "                ctype_success[com] = ctype_success.get(com,0) + 1\n",
    "        for com in ctype_success.keys():    \n",
    "            ctype_success[com] = N(ctype_success[com]/(self.G.cardinality()^2))\n",
    "\n",
    "        return ctype_success\n",
    "\n",
    "    def __brute_fixed(self):\n",
    "        \n",
    "        ctype_success = {}\n",
    "\n",
    "        for v in self.G:\n",
    "            com = Tau.commutator(self.fixed_h,v).cycle_string()#.cycle_type()\n",
    "\n",
    "            ctype_success[com] = ctype_success.get(com,0) + 1\n",
    "\n",
    "        for com in ctype_success.keys():    \n",
    "            ctype_success[com] = N(ctype_success[com]/self.G.cardinality())\n",
    "\n",
    "        return ctype_success\n",
    "\n",
    "    def __brute_fixed_conj(self):\n",
    "\n",
    "        ctype_success = {}\n",
    "\n",
    "        for h in self.G.conjugacy_class(self.fixed_h):\n",
    "            for v in self.G:\n",
    "                com = Tau.commutator(h,v).cycle_string()\n",
    "\n",
    "                ctype_success[com] = ctype_success.get(com,0) + 1\n",
    "       \n",
    "\n",
    "\n",
    "        for com in ctype_success.keys():    \n",
    "            ctype_success[com] = N(ctype_success[com]/(self.G.cardinality()*self.G.conjugacy_class(self.fixed_h).cardinality()))\n",
    "\n",
    "        return ctype_success\n",
    "\n",
    "\n"
   ]
  },
  {
   "cell_type": "code",
   "execution_count": 120,
   "metadata": {},
   "outputs": [],
   "source": [
    "t = Tau(5)"
   ]
  },
  {
   "cell_type": "code",
   "execution_count": 78,
   "metadata": {},
   "outputs": [
    {
     "data": {
      "text/plain": [
       "{[1, 1, 1, 1, 1]: 0.0583333333333333,\n",
       " [3, 1, 1]: 0.350000000000000,\n",
       " [5]: 0.333333333333333,\n",
       " [2, 2, 1]: 0.258333333333333}"
      ]
     },
     "execution_count": 78,
     "metadata": {},
     "output_type": "execute_result"
    }
   ],
   "source": [
    "t.compute_brute(model='rand')"
   ]
  },
  {
   "cell_type": "code",
   "execution_count": 86,
   "metadata": {},
   "outputs": [],
   "source": [
    "a = t.compute_brute(model='fixed').keys()"
   ]
  },
  {
   "cell_type": "code",
   "execution_count": 121,
   "metadata": {},
   "outputs": [],
   "source": [
    "b = t.compute_brute(model='fixed')\n",
    "c = t.compute_brute(model='rand')\n",
    "d = t.compute_brute(model='rand_conj')\n"
   ]
  },
  {
   "cell_type": "code",
   "execution_count": 122,
   "metadata": {},
   "outputs": [
    {
     "data": {
      "text/plain": [
       "24"
      ]
     },
     "execution_count": 122,
     "metadata": {},
     "output_type": "execute_result"
    }
   ],
   "source": [
    "len(b)"
   ]
  },
  {
   "cell_type": "code",
   "execution_count": 123,
   "metadata": {},
   "outputs": [
    {
     "data": {
      "text/plain": [
       "60"
      ]
     },
     "execution_count": 123,
     "metadata": {},
     "output_type": "execute_result"
    }
   ],
   "source": [
    "len(c)"
   ]
  },
  {
   "cell_type": "code",
   "execution_count": 111,
   "metadata": {},
   "outputs": [
    {
     "data": {
      "text/plain": [
       "2520"
      ]
     },
     "execution_count": 111,
     "metadata": {},
     "output_type": "execute_result"
    }
   ],
   "source": [
    "len(d)"
   ]
  },
  {
   "cell_type": "code",
   "execution_count": 110,
   "metadata": {},
   "outputs": [
    {
     "data": {
      "text/plain": [
       "720"
      ]
     },
     "execution_count": 110,
     "metadata": {},
     "output_type": "execute_result"
    }
   ],
   "source": [
    "len(b)"
   ]
  },
  {
   "cell_type": "code",
   "execution_count": 135,
   "metadata": {},
   "outputs": [
    {
     "name": "stdout",
     "output_type": "stream",
     "text": [
      "() 0.0416666666666667\n",
      "(1,5,2) 0.0416666666666667\n",
      "(1,5,3) 0.0416666666666667\n",
      "(1,5,4) 0.0416666666666667\n",
      "(2,4,3) 0.0416666666666667\n",
      "(1,5,2,4,3) 0.0416666666666667\n",
      "(1,5,4,3,2) 0.0416666666666667\n",
      "(1,5,3,2,4) 0.0416666666666667\n",
      "(2,5,3) 0.0416666666666667\n",
      "(1,3)(2,5) 0.0416666666666667\n",
      "(1,3,2,5,4) 0.0416666666666667\n",
      "(1,3,2) 0.0416666666666667\n",
      "(3,5,4) 0.0416666666666667\n",
      "(1,4,3,5,2) 0.0416666666666667\n",
      "(1,4)(3,5) 0.0416666666666667\n",
      "(1,4,3) 0.0416666666666667\n",
      "(2,5,4) 0.0416666666666667\n",
      "(1,4)(2,5) 0.0416666666666667\n",
      "(1,4,2) 0.0416666666666667\n",
      "(1,4,2,5,3) 0.0416666666666667\n",
      "(2,4)(3,5) 0.0416666666666667\n",
      "(1,3,5,2,4) 0.0416666666666667\n",
      "(1,3)(2,4) 0.0416666666666667\n",
      "(1,3,5,4,2) 0.0416666666666667\n"
     ]
    }
   ],
   "source": [
    "for k in b.keys():\n",
    "    print(k, b[k])"
   ]
  },
  {
   "cell_type": "code",
   "execution_count": 87,
   "metadata": {},
   "outputs": [],
   "source": [
    "Taus = list(map(PermutationGroupElement, map(Tau.ct_to_cs, a)))"
   ]
  },
  {
   "cell_type": "code",
   "execution_count": 14,
   "metadata": {},
   "outputs": [],
   "source": [
    "Taus = pickle.load(open('./tau_20.sav', 'rb'))\n"
   ]
  },
  {
   "cell_type": "code",
   "execution_count": 126,
   "metadata": {},
   "outputs": [
    {
     "data": {
      "text/plain": [
       "[(), (1,2,3), (1,2,3,4,5), (1,2)(3,4)]"
      ]
     },
     "execution_count": 126,
     "metadata": {},
     "output_type": "execute_result"
    }
   ],
   "source": [
    "Taus"
   ]
  },
  {
   "cell_type": "code",
   "execution_count": 134,
   "metadata": {},
   "outputs": [
    {
     "name": "stdout",
     "output_type": "stream",
     "text": [
      "(2,3)(4,5) 0.0138888888888889\n",
      "(1,2)(3,4) 0.0138888888888889\n",
      "(1,2)(3,5) 0.0138888888888889\n",
      "(1,2)(4,5) 0.0138888888888889\n",
      "(1,3)(4,5) 0.0138888888888889\n",
      "(1,4)(3,5) 0.0138888888888889\n",
      "(1,4)(2,5) 0.0138888888888889\n",
      "(1,3)(2,5) 0.0138888888888889\n",
      "(1,3)(2,4) 0.0138888888888889\n",
      "(1,4)(2,3) 0.0138888888888889\n",
      "(1,5)(2,3) 0.0138888888888889\n",
      "(1,5)(2,4) 0.0138888888888889\n",
      "(1,5)(3,4) 0.0138888888888889\n",
      "(2,5)(3,4) 0.0138888888888889\n",
      "(2,4)(3,5) 0.0138888888888889\n"
     ]
    }
   ],
   "source": [
    "for tau in t.G.conjugacy_class(Taus[3]):\n",
    "    print(tau, t.compute_closed_form(tau, model='fixed_conj', conj_tau=False))\n",
    "\n"
   ]
  },
  {
   "cell_type": "code",
   "execution_count": null,
   "metadata": {},
   "outputs": [],
   "source": []
  },
  {
   "cell_type": "code",
   "execution_count": null,
   "metadata": {},
   "outputs": [],
   "source": []
  },
  {
   "cell_type": "code",
   "execution_count": 76,
   "metadata": {},
   "outputs": [
    {
     "data": {
      "text/plain": [
       "'(1,2,3,4,5)'"
      ]
     },
     "execution_count": 76,
     "metadata": {},
     "output_type": "execute_result"
    }
   ],
   "source": [
    "Tau.ct_to_cs(list(a)[2])"
   ]
  },
  {
   "cell_type": "code",
   "execution_count": 21,
   "metadata": {},
   "outputs": [
    {
     "name": "stdout",
     "output_type": "stream",
     "text": [
      "[19, 1]\n",
      "[15, 5]\n",
      "[14, 6]\n",
      "[10, 4, 4, 2]\n",
      "[10, 10]\n",
      "[13, 3, 2, 2]\n",
      "[11, 4, 2, 1, 1, 1]\n",
      "[8, 5, 5, 2]\n",
      "[11, 6, 2, 1]\n",
      "[9, 5, 3, 3]\n",
      "[13, 7]\n",
      "[14, 3, 2, 1]\n",
      "[16, 2, 1, 1]\n",
      "[8, 6, 3, 3]\n",
      "[6, 6, 4, 2, 1, 1]\n"
     ]
    }
   ],
   "source": [
    "for tau in Taus:\n",
    "    print(tau.cycle_type())"
   ]
  },
  {
   "cell_type": "code",
   "execution_count": 18,
   "metadata": {},
   "outputs": [
    {
     "name": "stdout",
     "output_type": "stream",
     "text": [
      "0.104691358024691\n",
      "0.0253992416536299\n",
      "0.0226755955878344\n",
      "0.00297592906347518\n",
      "0.00952492940169316\n",
      "0.00611296924655288\n",
      "0.00419665943509088\n",
      "0.00238108902938643\n",
      "0.0150644983161956\n",
      "0.00235791398991967\n",
      "0.0209317653722839\n",
      "0.0237082493912893\n",
      "0.0326733310408184\n",
      "0.00221016484130151\n",
      "0.00181532202230302\n"
     ]
    }
   ],
   "source": [
    "for tau in Taus:\n",
    "    prob = t.compute_closed_form(tau, model='rand')\n",
    "    print(prob)"
   ]
  },
  {
   "cell_type": "code",
   "execution_count": 23,
   "metadata": {},
   "outputs": [
    {
     "name": "stdout",
     "output_type": "stream",
     "text": [
      "0.105263157894737\n",
      "0.0253984634789588\n",
      "0.0226751519321179\n",
      "0.00295945884181178\n",
      "0.00952375797577036\n",
      "0.00604664942900237\n",
      "0.00417637917637918\n",
      "0.00236866075101369\n",
      "0.0150625518272577\n",
      "0.00235594712718896\n",
      "0.0209317195164166\n",
      "0.0236928104575163\n",
      "0.0326797385620915\n",
      "0.00220840947965131\n",
      "0.00181492889826223\n"
     ]
    }
   ],
   "source": [
    "for tau in Taus:\n",
    "    prob = t.compute_closed_form(tau, model='fixed')\n",
    "    print(prob)"
   ]
  },
  {
   "cell_type": "code",
   "execution_count": 8,
   "metadata": {},
   "outputs": [
    {
     "name": "stdout",
     "output_type": "stream",
     "text": [
      "0.105263157894737\n",
      "0.0266666666666667\n",
      "0.0238095238095238\n",
      "0.00312500000000000\n",
      "0.0100000000000000\n",
      "0.00641025641025641\n",
      "0.00378787878787879\n",
      "0.00250000000000000\n",
      "0.0151515151515152\n",
      "0.00246913580246914\n",
      "0.0219780219780220\n",
      "0.0238095238095238\n",
      "0.0312500000000000\n",
      "0.00231481481481481\n",
      "0.00173611111111111\n"
     ]
    }
   ],
   "source": [
    "for tau in Taus:\n",
    "    print(N(t.G.conjugacy_class(tau).cardinality()/t.A.cardinality()))"
   ]
  },
  {
   "cell_type": "code",
   "execution_count": null,
   "metadata": {},
   "outputs": [],
   "source": []
  }
 ],
 "metadata": {
  "kernelspec": {
   "display_name": "SageMath 9.8",
   "language": "sage",
   "name": "SageMath-9.8"
  },
  "language_info": {
   "codemirror_mode": {
    "name": "ipython",
    "version": 3
   },
   "file_extension": ".py",
   "mimetype": "text/x-python",
   "name": "python",
   "nbconvert_exporter": "python",
   "pygments_lexer": "ipython3",
   "version": "3.11.1"
  },
  "orig_nbformat": 4
 },
 "nbformat": 4,
 "nbformat_minor": 2
}
