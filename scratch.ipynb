{
 "cells": [
  {
   "cell_type": "code",
   "execution_count": 1,
   "metadata": {},
   "outputs": [],
   "source": [
    "%load_ext autoreload\n",
    "%autoreload 2"
   ]
  },
  {
   "cell_type": "code",
   "execution_count": 2,
   "metadata": {},
   "outputs": [
    {
     "data": {
      "text/plain": [
       "2"
      ]
     },
     "execution_count": 2,
     "metadata": {},
     "output_type": "execute_result"
    }
   ],
   "source": [
    "5 % 3"
   ]
  },
  {
   "cell_type": "code",
   "execution_count": 249,
   "metadata": {},
   "outputs": [],
   "source": [
    "from sts_curves import *\n",
    "from columbus import compute_S_l0, computeA, STS, alg2\n",
    "import numpy as np\n",
    "from surface_dynamics.all import *"
   ]
  },
  {
   "cell_type": "code",
   "execution_count": 8,
   "metadata": {},
   "outputs": [],
   "source": [
    "a = {1: 2, 2:3, 3:1, 4:5, 5:6, 6:7, 7:8, 8:4}\n",
    "\n",
    "b = {1: 2, 2:3, 3:1, 4:5, 5:6, 6:7, 7:8, 8:4, 9:9}"
   ]
  },
  {
   "cell_type": "code",
   "execution_count": 14,
   "metadata": {},
   "outputs": [
    {
     "data": {
      "text/plain": [
       "1"
      ]
     },
     "execution_count": 14,
     "metadata": {},
     "output_type": "execute_result"
    }
   ],
   "source": [
    "get_cycles(a)\n",
    "\n",
    "min(*get_cycles(a),*get_cycles(b))"
   ]
  },
  {
   "cell_type": "code",
   "execution_count": 32,
   "metadata": {},
   "outputs": [
    {
     "ename": "UnboundLocalError",
     "evalue": "local variable 'd' referenced before assignment",
     "output_type": "error",
     "traceback": [
      "\u001b[0;31m---------------------------------------------------------------------------\u001b[0m",
      "\u001b[0;31mUnboundLocalError\u001b[0m                         Traceback (most recent call last)",
      "\u001b[1;32m/Users/tzeng/repos/math_comps/scratch.ipynb Cell 6\u001b[0m in \u001b[0;36m<cell line: 1>\u001b[0;34m()\u001b[0m\n\u001b[0;32m----> <a href='vscode-notebook-cell:/Users/tzeng/repos/math_comps/scratch.ipynb#W6sZmlsZQ%3D%3D?line=0'>1</a>\u001b[0m computeA((Integer(\u001b[39m1\u001b[39;49m),Integer(\u001b[39m1\u001b[39;49m)))\n",
      "File \u001b[0;32m~/repos/math_comps/columbus.py:61\u001b[0m, in \u001b[0;36mcomputeA\u001b[0;34m(v)\u001b[0m\n\u001b[1;32m     58\u001b[0m \u001b[39mif\u001b[39;00m v[\u001b[39m1\u001b[39m] \u001b[39m<\u001b[39m \u001b[39m0\u001b[39m:\n\u001b[1;32m     59\u001b[0m     b \u001b[39m=\u001b[39m  \u001b[39m-\u001b[39mb\n\u001b[0;32m---> 61\u001b[0m A \u001b[39m=\u001b[39m [[d, \u001b[39m-\u001b[39mb],[\u001b[39m-\u001b[39mv[\u001b[39m1\u001b[39m],v[\u001b[39m0\u001b[39m]]]\n\u001b[1;32m     63\u001b[0m \u001b[39mreturn\u001b[39;00m A\n",
      "\u001b[0;31mUnboundLocalError\u001b[0m: local variable 'd' referenced before assignment"
     ]
    }
   ],
   "source": [
    "computeA((1,1))"
   ]
  },
  {
   "cell_type": "code",
   "execution_count": 38,
   "metadata": {},
   "outputs": [
    {
     "data": {
      "text/plain": [
       "[(1, 0), (0, 1), (1, 1), (-1, 1), (1, 2), (-1, 2), (2, 1), (-2, 1)]"
      ]
     },
     "execution_count": 38,
     "metadata": {},
     "output_type": "execute_result"
    }
   ],
   "source": [
    "compute_S_l0(3)"
   ]
  },
  {
   "cell_type": "code",
   "execution_count": 54,
   "metadata": {},
   "outputs": [
    {
     "name": "stdout",
     "output_type": "stream",
     "text": [
      "success\n"
     ]
    }
   ],
   "source": [
    "verify = np.array((1,0))\n",
    "\n",
    "for v in compute_S_l0(100):\n",
    "    A = computeA(v)\n",
    "    A = np.array(A)\n",
    "    if round(np.linalg.det(A)) != 1:\n",
    "        print('bad det')\n",
    "        print(np.linalg.det(A))\n",
    "        break\n",
    "\n",
    "    i = A @ np.array(v)\n",
    "    if not np.array_equal(i, verify):\n",
    "        print('bad A')\n",
    "\n",
    "print('success')"
   ]
  },
  {
   "cell_type": "code",
   "execution_count": 58,
   "metadata": {},
   "outputs": [
    {
     "data": {
      "text/plain": [
       "0"
      ]
     },
     "execution_count": 58,
     "metadata": {},
     "output_type": "execute_result"
    }
   ],
   "source": [
    "s[0][0]"
   ]
  },
  {
   "cell_type": "code",
   "execution_count": 214,
   "metadata": {},
   "outputs": [],
   "source": [
    "def get_cycles(p: dict) -> list:\n",
    "    '''\n",
    "    returns permutation p\n",
    "    as a string in cycle notation\n",
    "    '''\n",
    "\n",
    "    n = len(p)\n",
    "\n",
    "    visited = set()\n",
    "    cycles = []\n",
    "    perm = ''\n",
    "\n",
    "    for i in range(1,n+1):\n",
    "        if i in visited:\n",
    "            continue\n",
    "\n",
    "        j = i\n",
    "        cycle = []\n",
    "        while j not in visited:\n",
    "            visited.add(j)\n",
    "            cycle.append(str(j))\n",
    "            j = p[j]\n",
    "        \n",
    "        # print(cycle)\n",
    "        cycles.append(cycle)\n",
    "\n",
    "    return cycles"
   ]
  },
  {
   "cell_type": "code",
   "execution_count": 211,
   "metadata": {},
   "outputs": [],
   "source": [
    "a = {1:2, 2:3, 3:1, 4:4, 5:6, 6:7, 7:8, 8:5}"
   ]
  },
  {
   "cell_type": "code",
   "execution_count": 212,
   "metadata": {},
   "outputs": [
    {
     "name": "stdout",
     "output_type": "stream",
     "text": [
      "['1', '2', '3']\n",
      "['4']\n",
      "['5', '6', '7', '8']\n"
     ]
    },
    {
     "data": {
      "text/plain": [
       "[['1', '2', '3'], ['4'], ['5', '6', '7', '8']]"
      ]
     },
     "execution_count": 212,
     "metadata": {},
     "output_type": "execute_result"
    }
   ],
   "source": [
    "get_cycles(a)"
   ]
  },
  {
   "attachments": {},
   "cell_type": "markdown",
   "metadata": {},
   "source": [
    "Example from Columbus"
   ]
  },
  {
   "cell_type": "code",
   "execution_count": 236,
   "metadata": {},
   "outputs": [],
   "source": [
    "h = {13:14, 14:15, 15:13, 7:8, 8:9, 9:10, 10:11, 11:12, 12:7, 1:2, 2:3, 3:4, 4:5, 5:6, 6:1}\n",
    "v= {1:7, 7:13, 13:1, 2:8, 8:14, 14:2, 3:9, 9:15, 15:3, 4:10, 10:6, 6:12, 12:5, 5:11, 11:4} "
   ]
  },
  {
   "cell_type": "code",
   "execution_count": 237,
   "metadata": {},
   "outputs": [],
   "source": [
    "ex = STS(h,v)"
   ]
  },
  {
   "cell_type": "code",
   "execution_count": null,
   "metadata": {},
   "outputs": [],
   "source": []
  },
  {
   "cell_type": "code",
   "execution_count": 261,
   "metadata": {},
   "outputs": [
    {
     "name": "stdout",
     "output_type": "stream",
     "text": [
      "{8, 10, 2, 11}\n"
     ]
    },
    {
     "data": {
      "text/plain": [
       "{(1, 4): [((1, 4), 2.0), ((1, 4), 2.0)],\n",
       " (6, 13): [((6, 13), 4.0), ((6, 13), 1.0)]}"
      ]
     },
     "execution_count": 261,
     "metadata": {},
     "output_type": "execute_result"
    }
   ],
   "source": [
    "alg2(ex, (1,0))"
   ]
  },
  {
   "cell_type": "code",
   "execution_count": null,
   "metadata": {},
   "outputs": [],
   "source": []
  }
 ],
 "metadata": {
  "kernelspec": {
   "display_name": "SageMath 9.7",
   "language": "sage",
   "name": "SageMath-9.7"
  },
  "language_info": {
   "codemirror_mode": {
    "name": "ipython",
    "version": 3
   },
   "file_extension": ".py",
   "mimetype": "text/x-python",
   "name": "python",
   "nbconvert_exporter": "python",
   "pygments_lexer": "ipython3",
   "version": "3.10.5"
  },
  "orig_nbformat": 4
 },
 "nbformat": 4,
 "nbformat_minor": 2
}
