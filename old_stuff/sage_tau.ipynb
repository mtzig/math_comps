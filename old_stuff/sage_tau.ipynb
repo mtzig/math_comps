{
 "cells": [
  {
   "cell_type": "code",
   "execution_count": 1,
   "metadata": {},
   "outputs": [],
   "source": [
    "%load_ext autoreload\n",
    "%autoreload 2"
   ]
  },
  {
   "cell_type": "code",
   "execution_count": 2,
   "metadata": {},
   "outputs": [],
   "source": [
    "from tqdm import tqdm\n",
    "import pickle"
   ]
  },
  {
   "cell_type": "code",
   "execution_count": 4,
   "metadata": {},
   "outputs": [],
   "source": [
    "commutator = lambda x,y:x*y*x^-1*y^-1"
   ]
  },
  {
   "cell_type": "code",
   "execution_count": 116,
   "metadata": {},
   "outputs": [],
   "source": [
    "n = 5\n"
   ]
  },
  {
   "cell_type": "code",
   "execution_count": 117,
   "metadata": {},
   "outputs": [],
   "source": [
    "G = SymmetricGroup(n)\n",
    "A = AlternatingGroup(n)\n",
    "\n",
    "fixed_h = PermutationGroupElement([tuple([i for i in range(1, n+1)])])\n",
    "ident = G.identity()\n",
    "irr_G = G.irreducible_characters()"
   ]
  },
  {
   "cell_type": "code",
   "execution_count": 118,
   "metadata": {},
   "outputs": [],
   "source": [
    "taus_random = []\n",
    "for _ in range(20):\n",
    "    tau = PermutationGroupElement(A.random_element().cycle_string())\n",
    "    taus_random.append(tau)\n",
    "# removes taus of same conjugacy class\n",
    "taus = []\n",
    "c_types = set()\n",
    "for tau in taus_random:\n",
    "    tau_ctype = tau.cycle_type()\n",
    "    if tau_ctype not in c_types:\n",
    "        c_types.add(tau_ctype)\n",
    "        taus.append(tau)\n",
    "\n",
    "# pickle.dump(taus, open('./tau_20.sav', 'wb'))\n",
    "\n",
    "# taus = pickle.load(open('./tau_20.sav', 'rb'))\n",
    "\n"
   ]
  },
  {
   "cell_type": "code",
   "execution_count": 119,
   "metadata": {},
   "outputs": [
    {
     "data": {
      "text/plain": [
       "[(1,3)(2,5), (2,3,4), (1,5,2,3,4), (2,4,5)]"
      ]
     },
     "execution_count": 119,
     "metadata": {},
     "output_type": "execute_result"
    }
   ],
   "source": [
    "taus"
   ]
  },
  {
   "cell_type": "code",
   "execution_count": 120,
   "metadata": {},
   "outputs": [
    {
     "name": "stdout",
     "output_type": "stream",
     "text": [
      "[2, 2, 1]\n",
      "[3, 1]\n",
      "[5]\n",
      "[3, 1, 1]\n"
     ]
    }
   ],
   "source": [
    "for tau in taus:\n",
    "    print(tau.cycle_type())"
   ]
  },
  {
   "cell_type": "code",
   "execution_count": 127,
   "metadata": {},
   "outputs": [],
   "source": [
    "taus = taus[0:1] + taus[2:]"
   ]
  },
  {
   "attachments": {},
   "cell_type": "markdown",
   "metadata": {},
   "source": [
    "# random model closed form prob"
   ]
  },
  {
   "cell_type": "code",
   "execution_count": 128,
   "metadata": {},
   "outputs": [
    {
     "name": "stdout",
     "output_type": "stream",
     "text": [
      "0.258333333333333\n",
      "0.333333333333333\n",
      "0.350000000000000\n"
     ]
    }
   ],
   "source": [
    "random_probs = []\n",
    "for tau in taus:\n",
    "    conj_tau_size = G.conjugacy_class(tau).cardinality()\n",
    "    prob = sum(chi(tau) / chi(ident) for chi in irr_G) / factorial(n) * conj_tau_size\n",
    "    print(N(prob))\n",
    "\n",
    "    random_probs.append(prob)"
   ]
  },
  {
   "attachments": {},
   "cell_type": "markdown",
   "metadata": {},
   "source": [
    "# emp random model"
   ]
  },
  {
   "cell_type": "code",
   "execution_count": 137,
   "metadata": {},
   "outputs": [],
   "source": [
    "ctype_success = {}\n",
    "for tau in taus:\n",
    "    ctype_success[tau.cycle_type()] = 0"
   ]
  },
  {
   "cell_type": "code",
   "execution_count": 138,
   "metadata": {},
   "outputs": [],
   "source": [
    "s = 0\n",
    "# for _ in tqdm(range(trials)):\n",
    "for h in G:\n",
    "    for v in G:\n",
    "    # v = G.random_element()\n",
    "\n",
    "        com = commutator(h,v).cycle_type()\n",
    "\n",
    "\n",
    "        if com in ctype_success:\n",
    "            ctype_success[com] += 1\n",
    "\n"
   ]
  },
  {
   "cell_type": "code",
   "execution_count": 139,
   "metadata": {},
   "outputs": [
    {
     "name": "stdout",
     "output_type": "stream",
     "text": [
      "0.258333333333333\n",
      "0.333333333333333\n",
      "0.350000000000000\n"
     ]
    }
   ],
   "source": [
    "fixed_probs = []\n",
    "for key in ctype_success:\n",
    "    print(N(ctype_success[key]/factorial(n)^2))\n",
    "    fixed_probs.append(ctype_success[key]/trials)"
   ]
  },
  {
   "attachments": {},
   "cell_type": "markdown",
   "metadata": {},
   "source": [
    "# fixed h model"
   ]
  },
  {
   "cell_type": "code",
   "execution_count": 133,
   "metadata": {},
   "outputs": [],
   "source": [
    "ctype_success = {}\n",
    "for tau in taus:\n",
    "    ctype_success[tau.cycle_type()] = 0"
   ]
  },
  {
   "cell_type": "code",
   "execution_count": 134,
   "metadata": {},
   "outputs": [],
   "source": [
    "trials = 1000\n",
    "s = 0\n",
    "# for _ in tqdm(range(trials)):\n",
    "for v in G:\n",
    "    # v = G.random_element()\n",
    "\n",
    "    com = commutator(fixed_h,v).cycle_type()\n",
    "\n",
    "\n",
    "    if com in ctype_success:\n",
    "        ctype_success[com] += 1\n",
    "\n"
   ]
  },
  {
   "cell_type": "code",
   "execution_count": 109,
   "metadata": {},
   "outputs": [],
   "source": [
    "# pickle.dump(ctype_success, open('./prob_counts.sav', 'wb'))"
   ]
  },
  {
   "cell_type": "code",
   "execution_count": 112,
   "metadata": {},
   "outputs": [],
   "source": [
    "# trials = 1200000 +  600000 * 30"
   ]
  },
  {
   "cell_type": "code",
   "execution_count": 136,
   "metadata": {},
   "outputs": [
    {
     "name": "stdout",
     "output_type": "stream",
     "text": [
      "0.208333333333333\n",
      "0.333333333333333\n",
      "0.416666666666667\n"
     ]
    }
   ],
   "source": [
    "fixed_probs = []\n",
    "for key in ctype_success:\n",
    "    print(N(ctype_success[key]/factorial(n)))\n",
    "    fixed_probs.append(ctype_success[key]/trials)"
   ]
  },
  {
   "attachments": {},
   "cell_type": "markdown",
   "metadata": {},
   "source": [
    "# Sebastian Fixed H Closed Form"
   ]
  },
  {
   "cell_type": "code",
   "execution_count": 132,
   "metadata": {},
   "outputs": [
    {
     "name": "stdout",
     "output_type": "stream",
     "text": [
      "0.208333333333333\n",
      "0.333333333333333\n",
      "0.416666666666667\n"
     ]
    }
   ],
   "source": [
    "fix_closed = []\n",
    "for tau in taus:\n",
    "    conj_tau_size = G.conjugacy_class(tau).cardinality()\n",
    "\n",
    "    prob = sum(complex(abs(chi(fixed_h))^2) * conjugate(chi(tau)) / chi(ident) for chi in irr_G) / factorial(n) * conj_tau_size\n",
    "    print(N(prob))\n",
    "\n",
    "    fix_closed.append(prob)"
   ]
  },
  {
   "cell_type": "markdown",
   "metadata": {},
   "source": [
    "# all together"
   ]
  },
  {
   "cell_type": "code",
   "execution_count": 115,
   "metadata": {},
   "outputs": [
    {
     "name": "stdout",
     "output_type": "stream",
     "text": [
      "0.104691358024691 0.105263157894737 0.105162447916667\n",
      "0.0253992416536299 0.0253984634789588 0.0253454166666667\n",
      "0.0226755955878344 0.0226751519321179 0.0226828125000000\n",
      "0.00297592906347518 0.00295945884181178 0.00296531250000000\n",
      "0.00952492940169316 0.00952375797577036 0.00949796875000000\n",
      "0.00611296924655288 0.00604664942900237 0.00606677083333333\n",
      "0.00419665943509088 0.00417637917637918 0.00417739583333333\n",
      "0.00238108902938643 0.00236866075101369 0.00236958333333333\n",
      "0.0150644983161956 0.0150625518272577 0.0150802604166667\n",
      "0.00235791398991967 0.00235594712718896 0.00235729166666667\n",
      "0.0209317653722839 0.0209317195164166 0.0208910937500000\n",
      "0.0237082493912893 0.0236928104575163 0.0237204166666667\n",
      "0.0326733310408184 0.0326797385620915 0.0326467708333333\n",
      "0.00221016484130151 0.00220840947965131 0.00219765625000000\n",
      "0.00181532202230302 0.00181492889826223 0.00181312500000000\n"
     ]
    }
   ],
   "source": [
    "for u,c,f in list(zip(random_probs, fix_closed, fixed_probs)):\n",
    "    print(N(u), N(c), N(f))\n"
   ]
  },
  {
   "cell_type": "code",
   "execution_count": null,
   "metadata": {},
   "outputs": [],
   "source": []
  }
 ],
 "metadata": {
  "kernelspec": {
   "display_name": "SageMath 9.7",
   "language": "sage",
   "name": "SageMath-9.7"
  },
  "language_info": {
   "codemirror_mode": {
    "name": "ipython",
    "version": 3
   },
   "file_extension": ".py",
   "mimetype": "text/x-python",
   "name": "python",
   "nbconvert_exporter": "python",
   "pygments_lexer": "ipython3",
   "version": "3.10.5"
  },
  "orig_nbformat": 4
 },
 "nbformat": 4,
 "nbformat_minor": 2
}
