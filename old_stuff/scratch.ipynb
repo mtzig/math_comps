{
 "cells": [
  {
   "cell_type": "code",
   "execution_count": 1,
   "metadata": {},
   "outputs": [],
   "source": [
    "%load_ext autoreload\n",
    "%autoreload 2"
   ]
  },
  {
   "cell_type": "code",
   "execution_count": 2,
   "metadata": {},
   "outputs": [
    {
     "data": {
      "text/plain": [
       "2"
      ]
     },
     "execution_count": 2,
     "metadata": {},
     "output_type": "execute_result"
    }
   ],
   "source": [
    "5 % 3"
   ]
  },
  {
   "cell_type": "code",
   "execution_count": 77,
   "metadata": {},
   "outputs": [],
   "source": [
    "from sts_curves import *\n",
    "from columbus import compute_S_l0, computeA, STS, alg2, alg1\n",
    "import numpy as np\n",
    "from surface_dynamics.all import *\n",
    "from tqdm import tqdm"
   ]
  },
  {
   "cell_type": "code",
   "execution_count": 3,
   "metadata": {},
   "outputs": [],
   "source": [
    "a = {1: 2, 2:3, 3:1, 4:5, 5:6, 6:7, 7:8, 8:4}\n",
    "\n",
    "b = {1: 2, 2:3, 3:1, 4:5, 5:6, 6:7, 7:8, 8:4, 9:9}"
   ]
  },
  {
   "cell_type": "code",
   "execution_count": 4,
   "metadata": {},
   "outputs": [
    {
     "data": {
      "text/plain": [
       "1"
      ]
     },
     "execution_count": 4,
     "metadata": {},
     "output_type": "execute_result"
    }
   ],
   "source": [
    "get_cycles(a)\n",
    "\n",
    "min(*get_cycles(a),*get_cycles(b))"
   ]
  },
  {
   "cell_type": "code",
   "execution_count": 5,
   "metadata": {},
   "outputs": [
    {
     "data": {
      "text/plain": [
       "[[2, -1], [-1, 1]]"
      ]
     },
     "execution_count": 5,
     "metadata": {},
     "output_type": "execute_result"
    }
   ],
   "source": [
    "computeA((1,1))"
   ]
  },
  {
   "cell_type": "code",
   "execution_count": 6,
   "metadata": {},
   "outputs": [
    {
     "data": {
      "text/plain": [
       "[(1, 0), (0, 1), (1, 1), (-1, 1), (1, 2), (-1, 2), (2, 1), (-2, 1)]"
      ]
     },
     "execution_count": 6,
     "metadata": {},
     "output_type": "execute_result"
    }
   ],
   "source": [
    "compute_S_l0(3)"
   ]
  },
  {
   "cell_type": "code",
   "execution_count": 7,
   "metadata": {},
   "outputs": [
    {
     "name": "stdout",
     "output_type": "stream",
     "text": [
      "success\n"
     ]
    }
   ],
   "source": [
    "verify = np.array((1,0))\n",
    "\n",
    "for v in compute_S_l0(100):\n",
    "    A = computeA(v)\n",
    "    A = np.array(A)\n",
    "    if round(np.linalg.det(A)) != 1:\n",
    "        print('bad det')\n",
    "        print(np.linalg.det(A))\n",
    "        break\n",
    "\n",
    "    i = A @ np.array(v)\n",
    "    if not np.array_equal(i, verify):\n",
    "        print('bad A')\n",
    "\n",
    "print('success')"
   ]
  },
  {
   "cell_type": "code",
   "execution_count": 9,
   "metadata": {},
   "outputs": [],
   "source": [
    "def get_cycles(p: dict) -> list:\n",
    "    '''\n",
    "    returns permutation p\n",
    "    as a string in cycle notation\n",
    "    '''\n",
    "\n",
    "    n = len(p)\n",
    "\n",
    "    visited = set()\n",
    "    cycles = []\n",
    "    perm = ''\n",
    "\n",
    "    for i in range(1,n+1):\n",
    "        if i in visited:\n",
    "            continue\n",
    "\n",
    "        j = i\n",
    "        cycle = []\n",
    "        while j not in visited:\n",
    "            visited.add(j)\n",
    "            cycle.append(str(j))\n",
    "            j = p[j]\n",
    "        \n",
    "        # print(cycle)\n",
    "        cycles.append(cycle)\n",
    "\n",
    "    return cycles"
   ]
  },
  {
   "cell_type": "code",
   "execution_count": 10,
   "metadata": {},
   "outputs": [],
   "source": [
    "a = {1:2, 2:3, 3:1, 4:4, 5:6, 6:7, 7:8, 8:5}"
   ]
  },
  {
   "cell_type": "code",
   "execution_count": 11,
   "metadata": {},
   "outputs": [
    {
     "data": {
      "text/plain": [
       "[['1', '2', '3'], ['4'], ['5', '6', '7', '8']]"
      ]
     },
     "execution_count": 11,
     "metadata": {},
     "output_type": "execute_result"
    }
   ],
   "source": [
    "get_cycles(a)"
   ]
  },
  {
   "attachments": {},
   "cell_type": "markdown",
   "metadata": {},
   "source": [
    "Example from Columbus"
   ]
  },
  {
   "cell_type": "code",
   "execution_count": 104,
   "metadata": {},
   "outputs": [],
   "source": [
    "h = {13:14, 14:15, 15:13, 7:8, 8:9, 9:10, 10:11, 11:12, 12:7, 1:2, 2:3, 3:4, 4:5, 5:6, 6:1}\n",
    "v= {1:7, 7:13, 13:1, 2:8, 8:14, 14:2, 3:9, 9:15, 15:3, 4:10, 10:6, 6:12, 12:5, 5:11, 11:4} "
   ]
  },
  {
   "cell_type": "code",
   "execution_count": 13,
   "metadata": {},
   "outputs": [],
   "source": [
    "ex = STS(h,v)"
   ]
  },
  {
   "cell_type": "code",
   "execution_count": null,
   "metadata": {},
   "outputs": [],
   "source": []
  },
  {
   "cell_type": "code",
   "execution_count": 14,
   "metadata": {},
   "outputs": [
    {
     "name": "stdout",
     "output_type": "stream",
     "text": [
      "{1, 2, 10, 14}\n"
     ]
    },
    {
     "data": {
      "text/plain": [
       "{(6, 13): [((1, 4), 7.0710678118654755), ((6, 13), 4.242640687119286)],\n",
       " (1, 4): [((1, 4), 4.242640687119286), ((6, 13), 5.656854249492381)]}"
      ]
     },
     "execution_count": 14,
     "metadata": {},
     "output_type": "execute_result"
    }
   ],
   "source": [
    "alg2(ex, (1,1))"
   ]
  },
  {
   "cell_type": "code",
   "execution_count": null,
   "metadata": {},
   "outputs": [],
   "source": []
  },
  {
   "cell_type": "code",
   "execution_count": 19,
   "metadata": {},
   "outputs": [],
   "source": [
    "g = alg1(ex)"
   ]
  },
  {
   "attachments": {},
   "cell_type": "markdown",
   "metadata": {},
   "source": [
    "# testing shortest path"
   ]
  },
  {
   "cell_type": "code",
   "execution_count": 42,
   "metadata": {},
   "outputs": [
    {
     "data": {
      "text/plain": [
       "{((1, 4), 2.23606797749979),\n",
       " ((1, 4), 2.8284271247461903),\n",
       " ((1, 4), 3.0),\n",
       " ((1, 4), 4.242640687119286),\n",
       " ((1, 4), 4.47213595499958),\n",
       " ((1, 4), 6.708203932499369),\n",
       " ((6, 13), 2.0),\n",
       " ((6, 13), 4.47213595499958),\n",
       " ((6, 13), 5.656854249492381),\n",
       " ((6, 13), 8.94427190999916)}"
      ]
     },
     "execution_count": 42,
     "metadata": {},
     "output_type": "execute_result"
    }
   ],
   "source": [
    "g[(1,4)]"
   ]
  },
  {
   "cell_type": "code",
   "execution_count": 57,
   "metadata": {},
   "outputs": [],
   "source": [
    "import heapq\n",
    "# thanks ChatGPT for this code\n",
    "\n",
    "def shortest_closed_path(graph):\n",
    "    # Find the shortest path from each vertex to every other vertex\n",
    "    shortest_paths = {}\n",
    "    for start_vertex in graph:\n",
    "        dists = {vertex: float('inf') for vertex in graph}\n",
    "        dists[start_vertex] = 0\n",
    "\n",
    "        queue = [(0, start_vertex)]\n",
    "        while queue:\n",
    "            (distance, current_vertex) = heapq.heappop(queue)\n",
    "\n",
    "            # Shortest path to current_vertex found\n",
    "            if current_vertex in shortest_paths:\n",
    "                continue\n",
    "\n",
    "            shortest_paths[current_vertex] = distance\n",
    "            for neighbor, weight in graph[current_vertex]:\n",
    "                if neighbor not in shortest_paths:\n",
    "                    heapq.heappush(queue, (distance + weight, neighbor))\n",
    "\n",
    "    # Find the shortest closed path (cycle) in the graph\n",
    "    shortest_cycle = float('inf')\n",
    "    for start_vertex in graph:\n",
    "        for neighbor, weight in graph[start_vertex]:\n",
    "            cycle_distance = shortest_paths[start_vertex] + weight + shortest_paths[neighbor]\n",
    "            if cycle_distance < shortest_cycle:\n",
    "                shortest_cycle = cycle_distance\n",
    "\n",
    "    return shortest_cycle"
   ]
  },
  {
   "cell_type": "code",
   "execution_count": 58,
   "metadata": {},
   "outputs": [
    {
     "data": {
      "text/plain": [
       "2.23606797749979"
      ]
     },
     "execution_count": 58,
     "metadata": {},
     "output_type": "execute_result"
    }
   ],
   "source": [
    "shortest_closed_path(g)    "
   ]
  },
  {
   "cell_type": "code",
   "execution_count": 56,
   "metadata": {},
   "outputs": [
    {
     "data": {
      "text/plain": [
       "defaultdict(<function dijkstra.<locals>.<lambda> at 0x141e3ede0>, {(1, 4): 0, (6, 13): 2.0})"
      ]
     },
     "execution_count": 56,
     "metadata": {},
     "output_type": "execute_result"
    }
   ],
   "source": [
    "n"
   ]
  },
  {
   "cell_type": "code",
   "execution_count": 49,
   "metadata": {},
   "outputs": [
    {
     "data": {
      "text/plain": [
       "{(1, 4): {((1, 4), 2.23606797749979),\n",
       "  ((1, 4), 2.8284271247461903),\n",
       "  ((1, 4), 3.0),\n",
       "  ((1, 4), 4.242640687119286),\n",
       "  ((1, 4), 4.47213595499958),\n",
       "  ((1, 4), 6.708203932499369),\n",
       "  ((6, 13), 2.0),\n",
       "  ((6, 13), 4.47213595499958),\n",
       "  ((6, 13), 5.656854249492381),\n",
       "  ((6, 13), 8.94427190999916)},\n",
       " (6, 13): {((1, 4), 1.0),\n",
       "  ((1, 4), 2.23606797749979),\n",
       "  ((1, 4), 4.0),\n",
       "  ((1, 4), 7.0710678118654755),\n",
       "  ((1, 4), 11.180339887498949),\n",
       "  ((6, 13), 2.23606797749979),\n",
       "  ((6, 13), 2.8284271247461903),\n",
       "  ((6, 13), 3.0),\n",
       "  ((6, 13), 4.242640687119286),\n",
       "  ((6, 13), 4.47213595499958),\n",
       "  ((6, 13), 6.708203932499369)}}"
      ]
     },
     "execution_count": 49,
     "metadata": {},
     "output_type": "execute_result"
    }
   ],
   "source": [
    "g"
   ]
  },
  {
   "cell_type": "code",
   "execution_count": 20,
   "metadata": {},
   "outputs": [
    {
     "data": {
      "text/plain": [
       "dict_keys([(1, 4), (6, 13)])"
      ]
     },
     "execution_count": 20,
     "metadata": {},
     "output_type": "execute_result"
    }
   ],
   "source": [
    "visited = set{}\n",
    "shortest_closed_path = float('inf')\n",
    "\n",
    "for node in g.keys():\n",
    "    if node in visited:\n",
    "        continue\n",
    "    \n",
    "\n",
    "    min_path, visited = shortest_closed_path(node, g, visited)\n",
    "    shortest_closed_path = min(min_path, shortest_closed_path)\n"
   ]
  },
  {
   "cell_type": "code",
   "execution_count": 21,
   "metadata": {},
   "outputs": [
    {
     "data": {
      "text/plain": [
       "{((1, 4), 2.23606797749979),\n",
       " ((1, 4), 2.8284271247461903),\n",
       " ((1, 4), 3.0),\n",
       " ((1, 4), 4.242640687119286),\n",
       " ((1, 4), 4.47213595499958),\n",
       " ((1, 4), 6.708203932499369),\n",
       " ((6, 13), 2.0),\n",
       " ((6, 13), 4.47213595499958),\n",
       " ((6, 13), 5.656854249492381),\n",
       " ((6, 13), 8.94427190999916)}"
      ]
     },
     "execution_count": 21,
     "metadata": {},
     "output_type": "execute_result"
    }
   ],
   "source": [
    "g[(1,4)]"
   ]
  },
  {
   "cell_type": "code",
   "execution_count": 26,
   "metadata": {},
   "outputs": [],
   "source": [
    "component = AbelianStratum(1, 1).hyperelliptic_component()\n",
    "curves = component.arithmetic_teichmueller_curves(10)\n"
   ]
  },
  {
   "cell_type": "code",
   "execution_count": 61,
   "metadata": {},
   "outputs": [
    {
     "data": {
      "text/plain": [
       "(1,2,3,4,5,6,7)(8,9,10)"
      ]
     },
     "execution_count": 61,
     "metadata": {},
     "output_type": "execute_result"
    }
   ],
   "source": [
    "curves[0].origami().u()"
   ]
  },
  {
   "cell_type": "code",
   "execution_count": 38,
   "metadata": {},
   "outputs": [
    {
     "data": {
      "text/plain": [
       "(7,8)"
      ]
     },
     "execution_count": 38,
     "metadata": {},
     "output_type": "execute_result"
    }
   ],
   "source": [
    "curves[0].origami().r()"
   ]
  },
  {
   "cell_type": "code",
   "execution_count": 63,
   "metadata": {},
   "outputs": [
    {
     "data": {
      "text/plain": [
       "['(2,3)', '(4,5,6)']"
      ]
     },
     "execution_count": 63,
     "metadata": {},
     "output_type": "execute_result"
    }
   ],
   "source": [
    "import re\n",
    "strs = '(2,3)(4,5,6)'\n",
    "regex = r'\\(.+?\\)|\".+?\"|\\w+' \n",
    "re.findall(regex, strs)"
   ]
  },
  {
   "cell_type": "code",
   "execution_count": 76,
   "metadata": {},
   "outputs": [
    {
     "data": {
      "text/plain": [
       "'(7,8)'"
      ]
     },
     "execution_count": 76,
     "metadata": {},
     "output_type": "execute_result"
    }
   ],
   "source": [
    "curves[0].origami().r().cycle_string()"
   ]
  },
  {
   "cell_type": "code",
   "execution_count": 75,
   "metadata": {},
   "outputs": [
    {
     "data": {
      "text/plain": [
       "{7: 8, 8: 7, 1: 1, 2: 2, 3: 3, 4: 4, 5: 5, 6: 6, 9: 9, 10: 10}"
      ]
     },
     "execution_count": 75,
     "metadata": {},
     "output_type": "execute_result"
    }
   ],
   "source": [
    "STS.get_cycle_dict(curves[0].origami().r().cycle_string(), 10)"
   ]
  },
  {
   "cell_type": "code",
   "execution_count": 84,
   "metadata": {},
   "outputs": [
    {
     "data": {
      "text/plain": [
       "[Teichmueller curve of the origami\n",
       " (1)(2)(3)(4)(5)(6)(7,8)(9)(10)\n",
       " (1,2,3,4,5,6,7)(8,9,10),\n",
       " Teichmueller curve of the origami\n",
       " (1)(2)(3)(4)(5)(6)(7)(8,9,10)\n",
       " (1,2,3,4,5,6,7,8)(9,10),\n",
       " Teichmueller curve of the origami\n",
       " (1)(2)(3)(4)(5)(6)(7)(8,9)(10)\n",
       " (1,2,3,4,5,6,7,8)(9,10),\n",
       " Teichmueller curve of the origami\n",
       " (1)(2)(3)(4)(5,6)(7)(8)(9)(10)\n",
       " (1,2,3,4,5)(6,7,8,9,10),\n",
       " Teichmueller curve of the origami\n",
       " (1)(2)(3)(4,5)(6,7)(8)(9)(10)\n",
       " (1,2,3,4,6)(5,7,8,9,10)]"
      ]
     },
     "execution_count": 84,
     "metadata": {},
     "output_type": "execute_result"
    }
   ],
   "source": [
    "curves"
   ]
  },
  {
   "cell_type": "code",
   "execution_count": 97,
   "metadata": {},
   "outputs": [
    {
     "data": {
      "text/plain": [
       "H_2(1^2)"
      ]
     },
     "execution_count": 97,
     "metadata": {},
     "output_type": "execute_result"
    }
   ],
   "source": [
    "curve.origami().stratum()"
   ]
  },
  {
   "cell_type": "code",
   "execution_count": 106,
   "metadata": {},
   "outputs": [
    {
     "data": {
      "text/plain": [
       "[Teichmueller curve of the origami\n",
       " (1)(2)(3)(4)(5)(6)(7)(8)(9)(10)(11)(12)(13,14)(15)\n",
       " (1,2,3,4,5,6,7,8,9,10,11,12,13)(14,15),\n",
       " Teichmueller curve of the origami\n",
       " (1)(2)(3)(4)(5)(6)(7)(8)(9)(10)(11)(12,13)(14)(15)\n",
       " (1,2,3,4,5,6,7,8,9,10,11,12)(13,14,15),\n",
       " Teichmueller curve of the origami\n",
       " (1)(2)(3)(4)(5)(6)(7)(8)(9)(10)(11,12,13,14,15)\n",
       " (1,2,3,4,5,6,7,8,9,10,11)(12,14)(13,15),\n",
       " Teichmueller curve of the origami\n",
       " (1)(2)(3)(4)(5)(6)(7)(8)(9)(10)(11,12)(13,14)(15)\n",
       " (1,2,3,4,5,6,7,8,9,10,11,13,15,12,14),\n",
       " Teichmueller curve of the origami\n",
       " (1)(2)(3)(4)(5)(6)(7)(8)(9)(10,11)(12)(13)(14)(15)\n",
       " (1,2,3,4,5,6,7,8,9,10)(11,12,13,14,15),\n",
       " Teichmueller curve of the origami\n",
       " (1)(2)(3)(4)(5)(6)(7)(8)(9,10)(11,12)(13)(14)(15)\n",
       " (1,2,3,4,5,6,7,8,9,11,13,14,15,10,12)]"
      ]
     },
     "execution_count": 106,
     "metadata": {},
     "output_type": "execute_result"
    }
   ],
   "source": [
    "curves"
   ]
  },
  {
   "cell_type": "code",
   "execution_count": 115,
   "metadata": {},
   "outputs": [],
   "source": [
    "_, _, s_action = curve.origami().sl2z_edges()\n",
    "\n",
    "i, s_orbit_reps = 0, list(s_action.keys())\n",
    "while i < len(s_orbit_reps):\n",
    "    o = s_orbit_reps[i]\n",
    "    s_o = s_action[o]\n",
    "    s_orbit_reps.remove(s_o)\n",
    "    s_o = s_action[s_o]\n",
    "    if s_o != o:\n",
    "        s_orbit_reps.remove(s_o)\n",
    "        s_o = s_action[s_o]\n",
    "        s_orbit_reps.remove(s_o)\n",
    "    i += 1"
   ]
  },
  {
   "cell_type": "code",
   "execution_count": 119,
   "metadata": {},
   "outputs": [
    {
     "data": {
      "text/plain": [
       "(1,2,3,4,5,6,7,8,9,10,11,12,13,14,15)"
      ]
     },
     "execution_count": 119,
     "metadata": {},
     "output_type": "execute_result"
    }
   ],
   "source": [
    "s_orbit_reps[0].r()"
   ]
  },
  {
   "cell_type": "code",
   "execution_count": 125,
   "metadata": {},
   "outputs": [
    {
     "name": "stderr",
     "output_type": "stream",
     "text": [
      "100%|██████████| 4/4 [03:17<00:00, 49.41s/it]\n"
     ]
    },
    {
     "data": {
      "text/plain": [
       "3.605551275463989"
      ]
     },
     "execution_count": 125,
     "metadata": {},
     "output_type": "execute_result"
    }
   ],
   "source": [
    "n = 25\n",
    "\n",
    "component = AbelianStratum(1, 1).hyperelliptic_component()\n",
    "curves = component.arithmetic_teichmueller_curves(n)\n",
    "\n",
    "max_curve = 0\n",
    "\n",
    "for curve in tqdm(curves):\n",
    "\n",
    "    ####### Columbus Magic ##################\n",
    "    # basically to get all the representatives of orbit under S\n",
    "    _, _, s_action = curve.origami().sl2z_edges()\n",
    "\n",
    "    i, s_orbit_reps = 0, list(s_action.keys())\n",
    "    while i < len(s_orbit_reps):\n",
    "        o = s_orbit_reps[i]\n",
    "        s_o = s_action[o]\n",
    "        s_orbit_reps.remove(s_o)\n",
    "        s_o = s_action[s_o]\n",
    "        if s_o != o:\n",
    "            s_orbit_reps.remove(s_o)\n",
    "            s_o = s_action[s_o]\n",
    "            s_orbit_reps.remove(s_o)\n",
    "        i += 1\n",
    "    #######################################\n",
    "\n",
    "    for o in s_orbit_reps:\n",
    "        h = STS.get_cycle_dict(o.r().cycle_string(), n)\n",
    "        v = STS.get_cycle_dict(o.u().cycle_string(), n)\n",
    "\n",
    "        s = STS(h,v)\n",
    "\n",
    "        g = alg1(s)\n",
    "\n",
    "        sys_s = shortest_closed_path(g)\n",
    "\n",
    "        max_curve = max(max_curve, sys_s)\n",
    "\n",
    "max_curve"
   ]
  }
 ],
 "metadata": {
  "kernelspec": {
   "display_name": "SageMath 9.8",
   "language": "sage",
   "name": "SageMath-9.8"
  },
  "language_info": {
   "codemirror_mode": {
    "name": "ipython",
    "version": 3
   },
   "file_extension": ".py",
   "mimetype": "text/x-python",
   "name": "python",
   "nbconvert_exporter": "python",
   "pygments_lexer": "ipython3",
   "version": "3.11.1"
  },
  "orig_nbformat": 4
 },
 "nbformat": 4,
 "nbformat_minor": 2
}
