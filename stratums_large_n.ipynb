{
 "cells": [
  {
   "cell_type": "code",
   "execution_count": 1,
   "metadata": {},
   "outputs": [],
   "source": [
    "%load_ext autoreload\n",
    "%autoreload 2"
   ]
  },
  {
   "cell_type": "code",
   "execution_count": 2,
   "metadata": {},
   "outputs": [],
   "source": [
    "from brute_stratum import *\n",
    "import matplotlib.pyplot as plt\n",
    "import numpy as np"
   ]
  },
  {
   "cell_type": "code",
   "execution_count": 3,
   "metadata": {},
   "outputs": [],
   "source": [
    "def get_label(s_tuple):\n",
    "    stratum = ''\n",
    "    for c in s_tuple:\n",
    "        stratum += f'{c[0]}'\n",
    "        if c[1] != 1:\n",
    "            stratum += f'^{c[1]} '\n",
    "        else:\n",
    "            stratum += ' '\n",
    "\n",
    "    return f'({stratum[:-1]})'"
   ]
  },
  {
   "cell_type": "code",
   "execution_count": 6,
   "metadata": {},
   "outputs": [],
   "source": [
    "unfixed, fixed, results = compare_fixed_unfixed(1000, genus=True, num_samples=1000000)"
   ]
  },
  {
   "cell_type": "code",
   "execution_count": 8,
   "metadata": {},
   "outputs": [
    {
     "data": {
      "text/plain": [
       "[(497, 308396),\n",
       " (498, 299281),\n",
       " (496, 173224),\n",
       " (499, 128088),\n",
       " (495, 59754),\n",
       " (500, 14945),\n",
       " (494, 13778),\n",
       " (493, 2228),\n",
       " (492, 277),\n",
       " (491, 29),\n",
       " (490, 0)]"
      ]
     },
     "execution_count": 8,
     "metadata": {},
     "output_type": "execute_result"
    }
   ],
   "source": [
    "u = list(unfixed.items())\n",
    "u.sort(key = lambda x:x[1],reverse=True)\n",
    "u"
   ]
  },
  {
   "cell_type": "code",
   "execution_count": 10,
   "metadata": {},
   "outputs": [
    {
     "data": {
      "text/plain": [
       "[(497, 308038),\n",
       " (498, 299972),\n",
       " (496, 172936),\n",
       " (499, 128153),\n",
       " (495, 59771),\n",
       " (500, 15011),\n",
       " (494, 13610),\n",
       " (493, 2219),\n",
       " (492, 260),\n",
       " (491, 27),\n",
       " (490, 3)]"
      ]
     },
     "execution_count": 10,
     "metadata": {},
     "output_type": "execute_result"
    }
   ],
   "source": [
    "f = list(fixed.items())\n",
    "f.sort(key = lambda x:x[1], reverse=True)\n",
    "f"
   ]
  },
  {
   "cell_type": "code",
   "execution_count": 44,
   "metadata": {},
   "outputs": [
    {
     "data": {
      "text/plain": [
       "[72, 51, 48, 44, 43, 35, 34, 31, 30, 29]"
      ]
     },
     "execution_count": 44,
     "metadata": {},
     "output_type": "execute_result"
    }
   ],
   "source": [
    "diff = list(results.values())\n",
    "diff.sort(reverse=True)\n",
    "diff[:10]"
   ]
  },
  {
   "cell_type": "code",
   "execution_count": 9,
   "metadata": {},
   "outputs": [],
   "source": [
    "stratums = get_stratums_sample(100, fixed=False)"
   ]
  },
  {
   "cell_type": "code",
   "execution_count": 45,
   "metadata": {},
   "outputs": [],
   "source": [
    "def pie(stratums):    \n",
    "    counts = np.array(tuple(stratums.values()))\n",
    "    labels = [get_label(list(stratums.keys())[i]) for i in range(len(stratums))]\n",
    "    labels, counts = zip(*sorted(list(zip(labels, counts)), key=lambda x:x[0]))\n",
    "\n",
    "    fig, ax = plt.subplots()\n",
    "    ax.pie(counts, labels=None, autopct='%1.1f%%')\n",
    "    fig.set_size_inches(18.5, 10.5)\n",
    "\n"
   ]
  },
  {
   "cell_type": "code",
   "execution_count": null,
   "metadata": {},
   "outputs": [],
   "source": []
  }
 ],
 "metadata": {
  "kernelspec": {
   "display_name": "SageMath 9.7",
   "language": "sage",
   "name": "SageMath-9.7"
  },
  "language_info": {
   "codemirror_mode": {
    "name": "ipython",
    "version": 3
   },
   "file_extension": ".py",
   "mimetype": "text/x-python",
   "name": "python",
   "nbconvert_exporter": "python",
   "pygments_lexer": "ipython3",
   "version": "3.10.5"
  },
  "orig_nbformat": 4
 },
 "nbformat": 4,
 "nbformat_minor": 2
}
