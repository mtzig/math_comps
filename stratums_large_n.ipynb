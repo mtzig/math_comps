{
 "cells": [
  {
   "cell_type": "code",
   "execution_count": 1,
   "metadata": {},
   "outputs": [],
   "source": [
    "%load_ext autoreload\n",
    "%autoreload 2"
   ]
  },
  {
   "cell_type": "code",
   "execution_count": 2,
   "metadata": {},
   "outputs": [],
   "source": [
    "from brute_stratum import *\n",
    "import matplotlib.pyplot as plt\n",
    "import numpy as np"
   ]
  },
  {
   "cell_type": "code",
   "execution_count": 4,
   "metadata": {},
   "outputs": [],
   "source": [
    "def get_label(s_tuple):\n",
    "    stratum = ''\n",
    "    for c in s_tuple:\n",
    "        stratum += f'{c[0]}'\n",
    "        if c[1] != 1:\n",
    "            stratum += f'^{c[1]} '\n",
    "        else:\n",
    "            stratum += ' '\n",
    "\n",
    "    return f'({stratum[:-1]})'"
   ]
  },
  {
   "cell_type": "code",
   "execution_count": 6,
   "metadata": {},
   "outputs": [],
   "source": [
    "unfixed, fixed, results = compare_fixed_unfixed(1000, genus=True, num_samples=1000000)"
   ]
  },
  {
   "cell_type": "code",
   "execution_count": 8,
   "metadata": {},
   "outputs": [
    {
     "data": {
      "text/plain": [
       "[(497, 308396),\n",
       " (498, 299281),\n",
       " (496, 173224),\n",
       " (499, 128088),\n",
       " (495, 59754),\n",
       " (500, 14945),\n",
       " (494, 13778),\n",
       " (493, 2228),\n",
       " (492, 277),\n",
       " (491, 29),\n",
       " (490, 0)]"
      ]
     },
     "execution_count": 8,
     "metadata": {},
     "output_type": "execute_result"
    }
   ],
   "source": [
    "u = list(unfixed.items())\n",
    "u.sort(key = lambda x:x[1],reverse=True)\n",
    "u"
   ]
  },
  {
   "cell_type": "code",
   "execution_count": 10,
   "metadata": {},
   "outputs": [
    {
     "data": {
      "text/plain": [
       "[(497, 308038),\n",
       " (498, 299972),\n",
       " (496, 172936),\n",
       " (499, 128153),\n",
       " (495, 59771),\n",
       " (500, 15011),\n",
       " (494, 13610),\n",
       " (493, 2219),\n",
       " (492, 260),\n",
       " (491, 27),\n",
       " (490, 3)]"
      ]
     },
     "execution_count": 10,
     "metadata": {},
     "output_type": "execute_result"
    }
   ],
   "source": [
    "f = list(fixed.items())\n",
    "f.sort(key = lambda x:x[1], reverse=True)\n",
    "f"
   ]
  },
  {
   "cell_type": "code",
   "execution_count": 44,
   "metadata": {},
   "outputs": [
    {
     "data": {
      "text/plain": [
       "[72, 51, 48, 44, 43, 35, 34, 31, 30, 29]"
      ]
     },
     "execution_count": 44,
     "metadata": {},
     "output_type": "execute_result"
    }
   ],
   "source": [
    "diff = list(results.values())\n",
    "diff.sort(reverse=True)\n",
    "diff[:10]"
   ]
  },
  {
   "cell_type": "code",
   "execution_count": 9,
   "metadata": {},
   "outputs": [],
   "source": [
    "stratums = get_stratums_sample(100, fixed=False)"
   ]
  },
  {
   "cell_type": "code",
   "execution_count": 5,
   "metadata": {},
   "outputs": [],
   "source": [
    "def expected_val(vals, num_samples):\n",
    "    expected = 0\n",
    "    for val, sample in vals:\n",
    "        expected += val*sample/num_samples\n",
    "    \n",
    "    return round(expected, 2)\n",
    "\n"
   ]
  },
  {
   "cell_type": "code",
   "execution_count": 6,
   "metadata": {},
   "outputs": [],
   "source": [
    "num_samples= 10000\n",
    "results = {}\n",
    "for i in range(100,151):\n",
    "    unfixed, fixed, _ = compare_fixed_unfixed(i, genus=True, num_samples=num_samples)\n",
    "\n",
    "    results[i] = (expected_val(list(unfixed.items()), num_samples),expected_val(list(fixed.items()), num_samples))\n"
   ]
  },
  {
   "cell_type": "code",
   "execution_count": 8,
   "metadata": {},
   "outputs": [],
   "source": [
    "r = list(results.items()) # col 1: genus, col 2: unfixed, col 3: fixed"
   ]
  },
  {
   "cell_type": "code",
   "execution_count": 12,
   "metadata": {},
   "outputs": [],
   "source": [
    "n, g = zip(*r)\n",
    "g_unfixed, g_fixed = zip(*g)"
   ]
  },
  {
   "cell_type": "code",
   "execution_count": 16,
   "metadata": {},
   "outputs": [],
   "source": [
    "x = [i for i in range(100,151)]\n",
    "y = [i/2 for i in range(100, 151)]"
   ]
  },
  {
   "cell_type": "code",
   "execution_count": 17,
   "metadata": {},
   "outputs": [
    {
     "data": {
      "image/png": "[encoded data removed]",
      "text/plain": [
       "<Figure size 432x288 with 1 Axes>"
      ]
     },
     "metadata": {
      "needs_background": "light"
     },
     "output_type": "display_data"
    }
   ],
   "source": [
    "# plt.scatter(n, g_unfixed, label = \"unfixed\")\n",
    "plt.scatter(x, y, label = \"n/2\")\n",
    "plt.scatter(n, g_fixed, label = \"fixed\")\n",
    "plt.legend()\n",
    "plt.show()"
   ]
  }
 ],
 "metadata": {
  "kernelspec": {
   "display_name": "SageMath 9.7",
   "language": "sage",
   "name": "SageMath-9.7"
  },
  "language_info": {
   "codemirror_mode": {
    "name": "ipython",
    "version": 3
   },
   "file_extension": ".py",
   "mimetype": "text/x-python",
   "name": "python",
   "nbconvert_exporter": "python",
   "pygments_lexer": "ipython3",
   "version": "3.10.5"
  },
  "orig_nbformat": 4
 },
 "nbformat": 4,
 "nbformat_minor": 2
}
